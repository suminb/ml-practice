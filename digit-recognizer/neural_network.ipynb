{
 "cells": [
  {
   "cell_type": "code",
   "execution_count": 1,
   "metadata": {},
   "outputs": [],
   "source": [
    "import csv\n",
    "\n",
    "import pandas as pd\n",
    "from sklearn.metrics import mean_absolute_error\n",
    "from sklearn.model_selection import train_test_split\n",
    "from sklearn.neural_network import MLPClassifier"
   ]
  },
  {
   "cell_type": "code",
   "execution_count": 2,
   "metadata": {},
   "outputs": [],
   "source": [
    "def load_data(filename='train.csv'):\n",
    "    train_data = pd.read_csv(filename)\n",
    "\n",
    "    y = train_data['label']\n",
    "    X = train_data.iloc[:, 1:]\n",
    "\n",
    "    return X, y\n",
    "\n",
    "\n",
    "def write_output(predictions, filename='output.csv'):\n",
    "    with open(filename, 'w') as fout:\n",
    "        writer = csv.writer(fout)\n",
    "        writer.writerow(['ImageId', 'Label'])\n",
    "        for i, p in enumerate(predictions, 1):\n",
    "            writer.writerow([i, p])"
   ]
  },
  {
   "cell_type": "code",
   "execution_count": 3,
   "metadata": {},
   "outputs": [],
   "source": [
    "X, y = load_data()\n",
    "train_X, val_X, train_y, val_y = train_test_split(X, y, random_state=0)\n",
    "row_count, feature_count = X.shape"
   ]
  },
  {
   "cell_type": "markdown",
   "metadata": {},
   "source": [
    "How to determine the number of neurons in a hidden layer? [Answers on StackOverflow](https://stats.stackexchange.com/questions/181/how-to-choose-the-number-of-hidden-layers-and-nodes-in-a-feedforward-neural-netw?newreg=91b1eff0e75a4cfdb984d99c21ccd384)"
   ]
  },
  {
   "cell_type": "code",
   "execution_count": 4,
   "metadata": {},
   "outputs": [
    {
     "data": {
      "text/plain": [
       "MLPClassifier(activation='relu', alpha=1e-05, batch_size='auto', beta_1=0.9,\n",
       "       beta_2=0.999, early_stopping=False, epsilon=1e-08,\n",
       "       hidden_layer_sizes=(533,), learning_rate='constant',\n",
       "       learning_rate_init=0.001, max_iter=200, momentum=0.9,\n",
       "       nesterovs_momentum=True, power_t=0.5, random_state=0, shuffle=True,\n",
       "       solver='lbfgs', tol=0.0001, validation_fraction=0.1, verbose=False,\n",
       "       warm_start=False)"
      ]
     },
     "execution_count": 4,
     "metadata": {},
     "output_type": "execute_result"
    }
   ],
   "source": [
    "model = MLPClassifier(solver='lbfgs', alpha=1e-5, hidden_layer_sizes=(533,), random_state=0)\n",
    "model.fit(train_X, train_y)"
   ]
  },
  {
   "cell_type": "code",
   "execution_count": 5,
   "metadata": {},
   "outputs": [],
   "source": [
    "predictions = model.predict(val_X)"
   ]
  },
  {
   "cell_type": "code",
   "execution_count": 6,
   "metadata": {},
   "outputs": [
    {
     "data": {
      "text/plain": [
       "0.15266666666666667"
      ]
     },
     "execution_count": 6,
     "metadata": {},
     "output_type": "execute_result"
    }
   ],
   "source": [
    "mean_absolute_error(predictions, val_y)"
   ]
  },
  {
   "cell_type": "code",
   "execution_count": 7,
   "metadata": {},
   "outputs": [],
   "source": [
    "test_X = pd.read_csv('test.csv')\n",
    "predictions = model.predict(test_X)\n",
    "write_output(predictions, 'output_nn.csv')"
   ]
  },
  {
   "cell_type": "code",
   "execution_count": 8,
   "metadata": {},
   "outputs": [],
   "source": [
    "# model = MLPClassifier(solver='lbfgs', alpha=1e-5, hidden_layer_sizes=(56,), random_state=0)\n",
    "# mae = 0.35295238095238096\n",
    "\n",
    "# model = MLPClassifier(solver='lbfgs', alpha=1e-5, hidden_layer_sizes=(533,), random_state=0)\n",
    "# mae = 0.15266666666666667\n",
    "\n",
    "# model = MLPClassifier(solver='sgd', alpha=1e-5, hidden_layer_sizes=(56,), random_state=0)\n",
    "# mae = 1.1010476190476191\n",
    "\n",
    "# model = MLPClassifier(solver='sgd', alpha=1e-5, hidden_layer_sizes=(533,), random_state=0)\n",
    "# mae = 0.20038095238095238"
   ]
  }
 ],
 "metadata": {
  "kernelspec": {
   "display_name": "Python 3",
   "language": "python",
   "name": "python3"
  },
  "language_info": {
   "codemirror_mode": {
    "name": "ipython",
    "version": 3
   },
   "file_extension": ".py",
   "mimetype": "text/x-python",
   "name": "python",
   "nbconvert_exporter": "python",
   "pygments_lexer": "ipython3",
   "version": "3.6.3"
  }
 },
 "nbformat": 4,
 "nbformat_minor": 2
}
